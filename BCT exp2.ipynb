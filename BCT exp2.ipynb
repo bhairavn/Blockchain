{
  "nbformat": 4,
  "nbformat_minor": 0,
  "metadata": {
    "colab": {
      "provenance": []
    },
    "kernelspec": {
      "name": "python3",
      "display_name": "Python 3"
    },
    "language_info": {
      "name": "python"
    }
  },
  "cells": [
    {
      "cell_type": "code",
      "execution_count": 2,
      "metadata": {
        "id": "N_wDSKJjHazl"
      },
      "outputs": [],
      "source": [
        "import hashlib\n",
        "import random\n",
        "import string\n",
        "import json\n",
        "import binascii\n",
        "import numpy as np\n",
        "import pandas as pd\n",
        "import pylab as pl\n",
        "import logging\n",
        "import datetime\n",
        "import collections"
      ]
    },
    {
      "cell_type": "code",
      "source": [
        "import Crypto\n",
        "import Crypto.Random\n",
        "from Crypto.Hash import SHA\n",
        "from Crypto.PublicKey import RSA\n",
        "from Crypto.Signature import PKCS1_v1_5"
      ],
      "metadata": {
        "id": "BQhuv2vzHirZ"
      },
      "execution_count": 8,
      "outputs": []
    },
    {
      "cell_type": "code",
      "source": [
        "transactions = []\n",
        "class Client:\n",
        "   def __init__(self):\n",
        "      random = Crypto.Random.new().read\n",
        "      self._private_key = RSA.generate(1024, random)\n",
        "      self._public_key = self._private_key.publickey()\n",
        "      self._signer = PKCS1_v1_5.new(self._private_key)\n",
        "\n",
        "   @property\n",
        "   def identity(self):\n",
        "      return binascii.hexlify(self._public_key.exportKey(format='DER')).decode('ascii')"
      ],
      "metadata": {
        "id": "7jphG5PCHqPM"
      },
      "execution_count": 20,
      "outputs": []
    },
    {
      "cell_type": "code",
      "source": [
        "class Transaction:\n",
        "    def __init__(self, sender, recipient, value):\n",
        "      self.sender = sender\n",
        "      self.recipient = recipient\n",
        "      self.value = value\n",
        "      self.time = datetime.datetime.now()\n",
        "    def to_dict(self):\n",
        "      if self.sender == \"Genesis\":\n",
        "          identity = \"Genesis\"\n",
        "      else:\n",
        "          identity = self.sender.identity\n",
        "\n",
        "      return collections.OrderedDict({\n",
        "          'sender': identity,\n",
        "          'recipient': self.recipient,\n",
        "          'value': self.value,\n",
        "          'time' : self.time})\n",
        "    def sign_transaction(self):\n",
        "      private_key = self.sender._private_key\n",
        "      signer = PKCS1_v1_5.new(private_key)\n",
        "      h = SHA.new(str(self.to_dict()).encode('utf8'))\n",
        "      return binascii.hexlify(signer.sign(h)).decode('ascii')"
      ],
      "metadata": {
        "id": "J5RC3AGVQV0f"
      },
      "execution_count": 21,
      "outputs": []
    },
    {
      "cell_type": "code",
      "source": [
        "D = Client()\n",
        "R = Client()\n",
        "S = Client()\n",
        "V = Client()"
      ],
      "metadata": {
        "id": "XM1m4GjvQugU"
      },
      "execution_count": 22,
      "outputs": []
    },
    {
      "cell_type": "code",
      "source": [
        "signature = t.sign_transaction()\n",
        "print (signature) "
      ],
      "metadata": {
        "colab": {
          "base_uri": "https://localhost:8080/"
        },
        "id": "dEjTvk2KSeTY",
        "outputId": "7f822319-f310-4ab5-f6a8-9fff277c30e2"
      },
      "execution_count": 17,
      "outputs": [
        {
          "output_type": "stream",
          "name": "stdout",
          "text": [
            "794e05256a4bbe4b29fc28c7177262f51e66536366d0c134b4d2a59c857c6ea3d77f3f71cdb8633adc6e0755ca8cab7d0f9cc616baccd6b5a32bde8156cc07e285d6f0866ca90bcb41e0fe496ccc6487f8d2d8f1364ddea4a7d6915e3c710123ae43baabe83b72bd085ebf47f170b5e1f72f242b84dca3f900d3d1f67926febe\n"
          ]
        }
      ]
    },
    {
      "cell_type": "code",
      "source": [
        "def display_transaction(transaction):\n",
        "   dict = transaction.to_dict()\n",
        "   print (\"sender: \" + dict['sender'])\n",
        "   print ('-----')\n",
        "   print (\"recipient: \" + dict['recipient'])\n",
        "   print ('-----')\n",
        "   print (\"value: \" + str(dict['value']))\n",
        "   print ('-----')\n"
      ],
      "metadata": {
        "id": "MM8vK8q4Sglz"
      },
      "execution_count": 84,
      "outputs": []
    },
    {
      "cell_type": "code",
      "source": [
        "t1 = Transaction(\n",
        "   D,\n",
        "   RuntimeError.identity,\n",
        "   5.0\n",
        ")\n",
        "t1.sign_transaction()\n",
        "transactions.append(t1)\n",
        "t2 = Transaction(\n",
        "   D,\n",
        "   S.identity,\n",
        "   6.0\n",
        ")\n",
        "t2.sign_transaction()\n",
        "transactions.append(t2)\n",
        "t3 = Transaction(\n",
        "   R,\n",
        "   V.identity,\n",
        "   2.0\n",
        ")\n",
        "t3.sign_transaction()\n",
        "transactions.append(t3)\n",
        "t4 = Transaction(\n",
        "   S,\n",
        "   R.identity,\n",
        "   4.0\n",
        ")\n",
        "t4.sign_transaction()\n",
        "transactions.append(t4)\n",
        "t5 = Transaction(\n",
        "   V,\n",
        "   S.identity,\n",
        "   7.0\n",
        ")\n",
        "t5.sign_transaction()\n",
        "transactions.append(t5)\n",
        "t6 = Transaction(\n",
        "   R,\n",
        "   S.identity,\n",
        "   3.0\n",
        ")\n",
        "t6.sign_transaction()\n",
        "transactions.append(t6)\n",
        "t7 = Transaction(\n",
        "   S,\n",
        "   D.identity,\n",
        "   8.0\n",
        ")\n",
        "t7.sign_transaction()\n",
        "transactions.append(t7)\n",
        "t8 = Transaction(\n",
        "   S,\n",
        "   R.identity,\n",
        "   1.0\n",
        ")\n",
        "t8.sign_transaction()\n",
        "transactions.append(t8)\n",
        "t9 = Transaction(\n",
        "   V,\n",
        "   D.identity,\n",
        "   5.0\n",
        ")\n",
        "t9.sign_transaction()\n",
        "transactions.append(t9)\n",
        "t10 = Transaction(\n",
        "   V,\n",
        "   R.identity,\n",
        "   3.0\n",
        ")\n",
        "t10.sign_transaction()\n",
        "transactions.append(t10)"
      ],
      "metadata": {
        "id": "YQsksYRpSb_y"
      },
      "execution_count": 23,
      "outputs": []
    },
    {
      "cell_type": "code",
      "source": [
        "last_block_hash = \"\"\n",
        "class Block:\n",
        "   def __init__(self):\n",
        "      self.verified_transactions = []\n",
        "      self.previous_block_hash = \"\"\n",
        "      self.Nonce = \"\""
      ],
      "metadata": {
        "id": "p_gFjqn7Sktj"
      },
      "execution_count": 37,
      "outputs": []
    },
    {
      "cell_type": "code",
      "source": [
        "D = Client()\n",
        "t0 = Transaction (\n",
        "   \"Genesis\",\n",
        "   D.identity,\n",
        "   500.0\n",
        ")"
      ],
      "metadata": {
        "id": "en0sfA0WSqNz"
      },
      "execution_count": 46,
      "outputs": []
    },
    {
      "cell_type": "code",
      "source": [
        "block0 = Block()"
      ],
      "metadata": {
        "id": "haJ7_0p9Tero"
      },
      "execution_count": 47,
      "outputs": []
    },
    {
      "cell_type": "code",
      "source": [
        "block0.previous_block_hash = None\n",
        "Nonce = None\n",
        "block0.verified_transactions.append (t0)\n",
        "digest = hash (block0)\n",
        "last_block_hash = digest"
      ],
      "metadata": {
        "id": "Gqjwitu9U0us"
      },
      "execution_count": 48,
      "outputs": []
    },
    {
      "cell_type": "code",
      "source": [
        "TPCoins = []"
      ],
      "metadata": {
        "id": "1rtROW8JThwl"
      },
      "execution_count": 49,
      "outputs": []
    },
    {
      "cell_type": "code",
      "source": [
        "def dump_blockchain (self):\n",
        "   print (\"Number of blocks in the chain: \" + str(len (self)))\n",
        "   for x in range (len(TPCoins)):\n",
        "      block_temp = TPCoins[x]\n",
        "      print (\"block # \" + str(x))\n",
        "      for transaction in block_temp.verified_transactions:\n",
        "         display_transaction (transaction)\n",
        "         print ('--------------')\n",
        "      print ('=====================================')"
      ],
      "metadata": {
        "id": "u5qAkRAgTqaq"
      },
      "execution_count": 50,
      "outputs": []
    },
    {
      "cell_type": "code",
      "source": [
        "TPCoins.append (block0)"
      ],
      "metadata": {
        "id": "gmZWDQzzTsD9"
      },
      "execution_count": 51,
      "outputs": []
    },
    {
      "cell_type": "code",
      "source": [
        "dump_blockchain(TPCoins)"
      ],
      "metadata": {
        "colab": {
          "base_uri": "https://localhost:8080/"
        },
        "id": "nt1jJFSpTtzh",
        "outputId": "54117fc5-0338-4ccc-81f3-e52262bffd50"
      },
      "execution_count": 52,
      "outputs": [
        {
          "output_type": "stream",
          "name": "stdout",
          "text": [
            "Number of blocks in the chain: 1\n",
            "block # 0\n",
            "sender: Genesis\n",
            "-----\n",
            "recipient: 30819f300d06092a864886f70d010101050003818d0030818902818100c5521f4903692547e2be0b213990b4046f2d05ae42ac0861ba898e59b5122724618013ed4693fd4816f5e5771db2cbf1c148cde0340fe352bdcd4707108d9e9dadeb1a7495fa74a65d3178407446004630948b1cb6f9ca70c045c3aa4f0a00da8ce5e0582f462cf630d3ac525c544031978bf0b55885c0dd83632525d0125cb90203010001\n",
            "-----\n",
            "value: 500.0\n",
            "-----\n",
            "time: 2022-11-08 17:38:43.357846\n",
            "-----\n",
            "--------------\n",
            "=====================================\n"
          ]
        }
      ]
    },
    {
      "cell_type": "code",
      "source": [
        "def sha256(message):\n",
        "      return hashlib.sha256(message.encode('ascii')).hexdigest()\n",
        "\n",
        "def mine(message, difficulty=1):\n",
        "      assert difficulty >= 1\n",
        "      prefix = '1' * difficulty\n",
        "      for i in range(1000):\n",
        "         digest = sha256(str(hash(message)) + str(i))\n",
        "         if digest.startswith(prefix):\n",
        "            print (\"after \" + str(i) + \" iterations found nonce: \"+ digest)\n",
        "            return digest"
      ],
      "metadata": {
        "id": "aj4p95MoTvYY"
      },
      "execution_count": 73,
      "outputs": []
    },
    {
      "cell_type": "code",
      "source": [
        "last_transaction_index = 0"
      ],
      "metadata": {
        "id": "xfX5PKoPVKpa"
      },
      "execution_count": 79,
      "outputs": []
    },
    {
      "cell_type": "code",
      "source": [
        "block = Block()\n",
        "for i in range(3):\n",
        "   temp_transaction = transactions[last_transaction_index]\n",
        "   # validate transaction\n",
        "   # if valid\n",
        "   block.verified_transactions.append (temp_transaction)\n",
        "   last_transaction_index += 1\n",
        "\n",
        "block.previous_block_hash = last_block_hash\n",
        "block.Nonce = mine (block, 2)\n",
        "digest = hash (block)\n",
        "TPCoins.append (block)\n",
        "last_block_hash = digest"
      ],
      "metadata": {
        "colab": {
          "base_uri": "https://localhost:8080/"
        },
        "id": "wx8ntwKsXgUr",
        "outputId": "cfe3a543-f074-4293-e04a-50e47c38c968"
      },
      "execution_count": 80,
      "outputs": [
        {
          "output_type": "stream",
          "name": "stdout",
          "text": [
            "after 890 iterations found nonce: 118103579fec927656e8fe7156a0af308b60481d971b64ce77b259a6805ce648\n"
          ]
        }
      ]
    },
    {
      "cell_type": "code",
      "source": [
        "block = Block()\n",
        "\n",
        "for i in range(3):\n",
        "   temp_transaction = transactions[last_transaction_index]\n",
        "   # validate transaction\n",
        "   # if valid\n",
        "   block.verified_transactions.append (temp_transaction)\n",
        "   last_transaction_index += 1\n",
        "block.previous_block_hash = last_block_hash\n",
        "block.Nonce = mine (block, 2)\n",
        "digest = hash (block)\n",
        "TPCoins.append (block)\n",
        "last_block_hash = digest\n",
        "# Miner 3 adds a block\n",
        "block = Block()\n",
        "\n",
        "for i in range(3):\n",
        "   temp_transaction = transactions[last_transaction_index]\n",
        "   #display_transaction (temp_transaction)\n",
        "   # validate transaction\n",
        "   # if valid\n",
        "   block.verified_transactions.append (temp_transaction)\n",
        "   last_transaction_index += 1\n",
        "\n",
        "block.previous_block_hash = last_block_hash\n",
        "block.Nonce = mine (block, 2)\n",
        "digest = hash (block)\n",
        "\n",
        "TPCoins.append (block)\n",
        "last_block_hash = digest"
      ],
      "metadata": {
        "colab": {
          "base_uri": "https://localhost:8080/"
        },
        "id": "ochIIhTvXg6B",
        "outputId": "c42add66-0841-4d69-a0ef-423e985f43e9"
      },
      "execution_count": 82,
      "outputs": [
        {
          "output_type": "stream",
          "name": "stdout",
          "text": [
            "after 81 iterations found nonce: 114f7a360906f087366a8fce0fb0e8f17ea5a9626a221fc735dd4bf1fa1aa5cf\n",
            "after 422 iterations found nonce: 11665858f2695512eb05bd469c999fd3ccff93db1e6be334d799fd136a7e3bb0\n"
          ]
        }
      ]
    },
    {
      "cell_type": "code",
      "source": [
        "dump_blockchain(TPCoins)"
      ],
      "metadata": {
        "colab": {
          "base_uri": "https://localhost:8080/"
        },
        "id": "3sut48vpXoDW",
        "outputId": "8d2ebd6b-b6ed-43f4-a4fc-6c1530c28767"
      },
      "execution_count": 85,
      "outputs": [
        {
          "output_type": "stream",
          "name": "stdout",
          "text": [
            "Number of blocks in the chain: 4\n",
            "block # 0\n",
            "sender: Genesis\n",
            "-----\n",
            "recipient: 30819f300d06092a864886f70d010101050003818d0030818902818100c5521f4903692547e2be0b213990b4046f2d05ae42ac0861ba898e59b5122724618013ed4693fd4816f5e5771db2cbf1c148cde0340fe352bdcd4707108d9e9dadeb1a7495fa74a65d3178407446004630948b1cb6f9ca70c045c3aa4f0a00da8ce5e0582f462cf630d3ac525c544031978bf0b55885c0dd83632525d0125cb90203010001\n",
            "-----\n",
            "value: 500.0\n",
            "-----\n",
            "--------------\n",
            "=====================================\n",
            "block # 1\n",
            "sender: 30819f300d06092a864886f70d010101050003818d0030818902818100b0e03ab1afefb2105b44dea5ae1dcd98ca603dbc7ba3c50ddfc69d9270e595c7de10372411ee963d4e76a1906ecff223fdce855e66325b304d9d6cfdc6d70864b5df53bcc230ebef9dcf42c651f4f89fc688a7184cfea301c4359d9edba51baad1f7e955e24120965e09c8b7621d997ac1d825d46b08d3bde448408ef2a20fe30203010001\n",
            "-----\n",
            "recipient: 30819f300d06092a864886f70d010101050003818d0030818902818100cb1f3c8b22961670c0d290a6f535fb3860a2a7e5f85b621a2834de2689e066e4c20951cd36cefd6da1c23e0495b50d2d3109e8511db7cb457cb598a392cb8571cfe6a027c2c04d19e4a0c391a638ae271980e0bab5dda5e278763d56470ac64403e7d84237f6728b1cbb57111a29fd2f4bf0479843759ad5271b975148eafec10203010001\n",
            "-----\n",
            "value: 5.0\n",
            "-----\n",
            "--------------\n",
            "sender: 30819f300d06092a864886f70d010101050003818d0030818902818100b0e03ab1afefb2105b44dea5ae1dcd98ca603dbc7ba3c50ddfc69d9270e595c7de10372411ee963d4e76a1906ecff223fdce855e66325b304d9d6cfdc6d70864b5df53bcc230ebef9dcf42c651f4f89fc688a7184cfea301c4359d9edba51baad1f7e955e24120965e09c8b7621d997ac1d825d46b08d3bde448408ef2a20fe30203010001\n",
            "-----\n",
            "recipient: 30819f300d06092a864886f70d010101050003818d0030818902818100958f0ec4e96267ced757a3e1b09759c0ec8bfd90d895ee2625395a0a52b11d4faf71a0d157b4d0b7e53ae3d07a38f7f6496a93d9560cf6d0998bf950761aed7788d5b7bf5fcda50e04bf1c69c7fc9dcd4babc3ce96aa0a5a83f1f0791783d0033dacfe2de7dc860c828dde11f0601ac1dc1afe5b5ef50875f9400f3530263e450203010001\n",
            "-----\n",
            "value: 6.0\n",
            "-----\n",
            "--------------\n",
            "sender: 30819f300d06092a864886f70d010101050003818d0030818902818100cb1f3c8b22961670c0d290a6f535fb3860a2a7e5f85b621a2834de2689e066e4c20951cd36cefd6da1c23e0495b50d2d3109e8511db7cb457cb598a392cb8571cfe6a027c2c04d19e4a0c391a638ae271980e0bab5dda5e278763d56470ac64403e7d84237f6728b1cbb57111a29fd2f4bf0479843759ad5271b975148eafec10203010001\n",
            "-----\n",
            "recipient: 30819f300d06092a864886f70d010101050003818d00308189028181009261a0d5b6b868384daf67ecb8bf0e6ea10cc900c4a5dd3a8df05999697a840e42f8cfad97e1e534ef7484db0edea0b44eca099c5529e2b49db7cdd7608bdd8b9d9cbdc57c5e56612248c808f52d1f9af136bc202f17c81b1bc442bf216892a5cc57ef859480d571b30b8e566f9a67fbb3855633eae840f6f44df7b1c06b580b0203010001\n",
            "-----\n",
            "value: 2.0\n",
            "-----\n",
            "--------------\n",
            "=====================================\n",
            "block # 2\n",
            "sender: 30819f300d06092a864886f70d010101050003818d0030818902818100958f0ec4e96267ced757a3e1b09759c0ec8bfd90d895ee2625395a0a52b11d4faf71a0d157b4d0b7e53ae3d07a38f7f6496a93d9560cf6d0998bf950761aed7788d5b7bf5fcda50e04bf1c69c7fc9dcd4babc3ce96aa0a5a83f1f0791783d0033dacfe2de7dc860c828dde11f0601ac1dc1afe5b5ef50875f9400f3530263e450203010001\n",
            "-----\n",
            "recipient: 30819f300d06092a864886f70d010101050003818d0030818902818100cb1f3c8b22961670c0d290a6f535fb3860a2a7e5f85b621a2834de2689e066e4c20951cd36cefd6da1c23e0495b50d2d3109e8511db7cb457cb598a392cb8571cfe6a027c2c04d19e4a0c391a638ae271980e0bab5dda5e278763d56470ac64403e7d84237f6728b1cbb57111a29fd2f4bf0479843759ad5271b975148eafec10203010001\n",
            "-----\n",
            "value: 4.0\n",
            "-----\n",
            "--------------\n",
            "sender: 30819f300d06092a864886f70d010101050003818d00308189028181009261a0d5b6b868384daf67ecb8bf0e6ea10cc900c4a5dd3a8df05999697a840e42f8cfad97e1e534ef7484db0edea0b44eca099c5529e2b49db7cdd7608bdd8b9d9cbdc57c5e56612248c808f52d1f9af136bc202f17c81b1bc442bf216892a5cc57ef859480d571b30b8e566f9a67fbb3855633eae840f6f44df7b1c06b580b0203010001\n",
            "-----\n",
            "recipient: 30819f300d06092a864886f70d010101050003818d0030818902818100958f0ec4e96267ced757a3e1b09759c0ec8bfd90d895ee2625395a0a52b11d4faf71a0d157b4d0b7e53ae3d07a38f7f6496a93d9560cf6d0998bf950761aed7788d5b7bf5fcda50e04bf1c69c7fc9dcd4babc3ce96aa0a5a83f1f0791783d0033dacfe2de7dc860c828dde11f0601ac1dc1afe5b5ef50875f9400f3530263e450203010001\n",
            "-----\n",
            "value: 7.0\n",
            "-----\n",
            "--------------\n",
            "sender: 30819f300d06092a864886f70d010101050003818d0030818902818100cb1f3c8b22961670c0d290a6f535fb3860a2a7e5f85b621a2834de2689e066e4c20951cd36cefd6da1c23e0495b50d2d3109e8511db7cb457cb598a392cb8571cfe6a027c2c04d19e4a0c391a638ae271980e0bab5dda5e278763d56470ac64403e7d84237f6728b1cbb57111a29fd2f4bf0479843759ad5271b975148eafec10203010001\n",
            "-----\n",
            "recipient: 30819f300d06092a864886f70d010101050003818d0030818902818100958f0ec4e96267ced757a3e1b09759c0ec8bfd90d895ee2625395a0a52b11d4faf71a0d157b4d0b7e53ae3d07a38f7f6496a93d9560cf6d0998bf950761aed7788d5b7bf5fcda50e04bf1c69c7fc9dcd4babc3ce96aa0a5a83f1f0791783d0033dacfe2de7dc860c828dde11f0601ac1dc1afe5b5ef50875f9400f3530263e450203010001\n",
            "-----\n",
            "value: 3.0\n",
            "-----\n",
            "--------------\n",
            "=====================================\n",
            "block # 3\n",
            "sender: 30819f300d06092a864886f70d010101050003818d0030818902818100958f0ec4e96267ced757a3e1b09759c0ec8bfd90d895ee2625395a0a52b11d4faf71a0d157b4d0b7e53ae3d07a38f7f6496a93d9560cf6d0998bf950761aed7788d5b7bf5fcda50e04bf1c69c7fc9dcd4babc3ce96aa0a5a83f1f0791783d0033dacfe2de7dc860c828dde11f0601ac1dc1afe5b5ef50875f9400f3530263e450203010001\n",
            "-----\n",
            "recipient: 30819f300d06092a864886f70d010101050003818d0030818902818100b0e03ab1afefb2105b44dea5ae1dcd98ca603dbc7ba3c50ddfc69d9270e595c7de10372411ee963d4e76a1906ecff223fdce855e66325b304d9d6cfdc6d70864b5df53bcc230ebef9dcf42c651f4f89fc688a7184cfea301c4359d9edba51baad1f7e955e24120965e09c8b7621d997ac1d825d46b08d3bde448408ef2a20fe30203010001\n",
            "-----\n",
            "value: 8.0\n",
            "-----\n",
            "--------------\n",
            "sender: 30819f300d06092a864886f70d010101050003818d0030818902818100958f0ec4e96267ced757a3e1b09759c0ec8bfd90d895ee2625395a0a52b11d4faf71a0d157b4d0b7e53ae3d07a38f7f6496a93d9560cf6d0998bf950761aed7788d5b7bf5fcda50e04bf1c69c7fc9dcd4babc3ce96aa0a5a83f1f0791783d0033dacfe2de7dc860c828dde11f0601ac1dc1afe5b5ef50875f9400f3530263e450203010001\n",
            "-----\n",
            "recipient: 30819f300d06092a864886f70d010101050003818d0030818902818100cb1f3c8b22961670c0d290a6f535fb3860a2a7e5f85b621a2834de2689e066e4c20951cd36cefd6da1c23e0495b50d2d3109e8511db7cb457cb598a392cb8571cfe6a027c2c04d19e4a0c391a638ae271980e0bab5dda5e278763d56470ac64403e7d84237f6728b1cbb57111a29fd2f4bf0479843759ad5271b975148eafec10203010001\n",
            "-----\n",
            "value: 1.0\n",
            "-----\n",
            "--------------\n",
            "sender: 30819f300d06092a864886f70d010101050003818d00308189028181009261a0d5b6b868384daf67ecb8bf0e6ea10cc900c4a5dd3a8df05999697a840e42f8cfad97e1e534ef7484db0edea0b44eca099c5529e2b49db7cdd7608bdd8b9d9cbdc57c5e56612248c808f52d1f9af136bc202f17c81b1bc442bf216892a5cc57ef859480d571b30b8e566f9a67fbb3855633eae840f6f44df7b1c06b580b0203010001\n",
            "-----\n",
            "recipient: 30819f300d06092a864886f70d010101050003818d0030818902818100b0e03ab1afefb2105b44dea5ae1dcd98ca603dbc7ba3c50ddfc69d9270e595c7de10372411ee963d4e76a1906ecff223fdce855e66325b304d9d6cfdc6d70864b5df53bcc230ebef9dcf42c651f4f89fc688a7184cfea301c4359d9edba51baad1f7e955e24120965e09c8b7621d997ac1d825d46b08d3bde448408ef2a20fe30203010001\n",
            "-----\n",
            "value: 5.0\n",
            "-----\n",
            "--------------\n",
            "=====================================\n"
          ]
        }
      ]
    },
    {
      "cell_type": "code",
      "source": [],
      "metadata": {
        "id": "CI2x9SCeX72P"
      },
      "execution_count": null,
      "outputs": []
    }
  ]
}